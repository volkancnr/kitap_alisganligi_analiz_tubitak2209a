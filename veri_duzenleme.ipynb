{
 "cells": [
  {
   "cell_type": "code",
   "execution_count": 1,
   "metadata": {},
   "outputs": [],
   "source": [
    "import numpy as np\n",
    "import pandas as pd \n",
    "import seaborn as sns\n"
   ]
  },
  {
   "cell_type": "code",
   "execution_count": 2,
   "metadata": {},
   "outputs": [],
   "source": [
    "data= pd.read_excel(\"duzenlenmis_veri.xlsx\")"
   ]
  },
  {
   "cell_type": "code",
   "execution_count": 3,
   "metadata": {},
   "outputs": [
    {
     "data": {
      "text/html": [
       "<div>\n",
       "<style scoped>\n",
       "    .dataframe tbody tr th:only-of-type {\n",
       "        vertical-align: middle;\n",
       "    }\n",
       "\n",
       "    .dataframe tbody tr th {\n",
       "        vertical-align: top;\n",
       "    }\n",
       "\n",
       "    .dataframe thead th {\n",
       "        text-align: right;\n",
       "    }\n",
       "</style>\n",
       "<table border=\"1\" class=\"dataframe\">\n",
       "  <thead>\n",
       "    <tr style=\"text-align: right;\">\n",
       "      <th></th>\n",
       "      <th>Zaman damgası</th>\n",
       "      <th>Cinsiyetiniz Nedir?</th>\n",
       "      <th>Anne Eğitim Düzeyi Nedir?</th>\n",
       "      <th>Baba Eğitim Düzeyi Nedir?\\n</th>\n",
       "      <th>Aylık Ortalama Harcamanız Ne Kadar? (Sadece Sayı Giriniz)</th>\n",
       "      <th>Burs veya kredi alıyor musunuz?</th>\n",
       "      <th>Nerede kalıyorsunuz?</th>\n",
       "      <th>Sigara Kullanıyor Musunuz?</th>\n",
       "      <th>Alkol Kullanıyor Musunuz?</th>\n",
       "      <th>Kitap Okuma Alışkanlığınız Var Mı?</th>\n",
       "      <th>Son bir ayda okuduğunuz kitap sayısı Nedir? (Sadece Sayı Giriniz)</th>\n",
       "      <th>Spor yapıyor musunuz?</th>\n",
       "      <th>Günlük kaç adım atarsınız?</th>\n",
       "      <th>GANO Ortalamanız Ne Kadar?</th>\n",
       "      <th>Alttan aldığınız ders sayısı ne kadar?</th>\n",
       "      <th>Aileniz hangi bölgede yaşıyor?</th>\n",
       "      <th>Eğlence Ve Sosyal Aktivitelere Hangi Sıklıkta Katılırsınız? Lütfen 0-5 arası derecelendiriniz</th>\n",
       "      <th>Hangi Tabanlı Fakültede Eğitim Görmektesiniz?</th>\n",
       "      <th>Okula ulaşımı nasıl sağlıyorsunuz?</th>\n",
       "      <th>Yemek</th>\n",
       "    </tr>\n",
       "  </thead>\n",
       "  <tbody>\n",
       "    <tr>\n",
       "      <th>0</th>\n",
       "      <td>16,11,2023 19:33</td>\n",
       "      <td>Erkek</td>\n",
       "      <td>ilköğretim</td>\n",
       "      <td>İlkokul</td>\n",
       "      <td>3000.0</td>\n",
       "      <td>Evet</td>\n",
       "      <td>Yurt</td>\n",
       "      <td>Hayır</td>\n",
       "      <td>Hayır</td>\n",
       "      <td>Hayır</td>\n",
       "      <td>1.0</td>\n",
       "      <td>Evet</td>\n",
       "      <td>10000 ve üzeri</td>\n",
       "      <td>3.59</td>\n",
       "      <td>0.0</td>\n",
       "      <td>İç Anadolu</td>\n",
       "      <td>3.0</td>\n",
       "      <td>Mühendislik Ve Fen Bilimleri</td>\n",
       "      <td>Toplu Taşıma</td>\n",
       "      <td>Üniversite/Fakülte Yemekhanesi</td>\n",
       "    </tr>\n",
       "    <tr>\n",
       "      <th>1</th>\n",
       "      <td>25,11,2023 12:34</td>\n",
       "      <td>Erkek</td>\n",
       "      <td>ilköğretim</td>\n",
       "      <td>İlkokul</td>\n",
       "      <td>2000.0</td>\n",
       "      <td>Hayır</td>\n",
       "      <td>Ev Aile İle</td>\n",
       "      <td>Hayır</td>\n",
       "      <td>Hayır</td>\n",
       "      <td>Hayır</td>\n",
       "      <td>0.0</td>\n",
       "      <td>Hayır</td>\n",
       "      <td>5000-10000 adım</td>\n",
       "      <td>2.85</td>\n",
       "      <td>3.0</td>\n",
       "      <td>İç Anadolu</td>\n",
       "      <td>2.0</td>\n",
       "      <td>Mühendislik Ve Fen Bilimleri</td>\n",
       "      <td>Kişisel Araç</td>\n",
       "      <td>Üniversite/Fakülte Yemekhanesi</td>\n",
       "    </tr>\n",
       "    <tr>\n",
       "      <th>2</th>\n",
       "      <td>25,11,2023 12:57</td>\n",
       "      <td>Erkek</td>\n",
       "      <td>Lise</td>\n",
       "      <td>Lise</td>\n",
       "      <td>8000.0</td>\n",
       "      <td>Hayır</td>\n",
       "      <td>Ev Aile İle</td>\n",
       "      <td>Hayır</td>\n",
       "      <td>Hayır</td>\n",
       "      <td>Evet</td>\n",
       "      <td>2.0</td>\n",
       "      <td>Evet</td>\n",
       "      <td>10000 ve üzeri</td>\n",
       "      <td>3.06</td>\n",
       "      <td>1.0</td>\n",
       "      <td>Akdeniz</td>\n",
       "      <td>2.0</td>\n",
       "      <td>Mühendislik Ve Fen Bilimleri</td>\n",
       "      <td>Yürüyerek</td>\n",
       "      <td>Üniversite/Fakülte Yemekhanesi</td>\n",
       "    </tr>\n",
       "    <tr>\n",
       "      <th>3</th>\n",
       "      <td>25,11,2023 12:57</td>\n",
       "      <td>Kadın</td>\n",
       "      <td>ilköğretim</td>\n",
       "      <td>İlkokul</td>\n",
       "      <td>4000.0</td>\n",
       "      <td>Evet</td>\n",
       "      <td>Yurt</td>\n",
       "      <td>Evet</td>\n",
       "      <td>Hayır</td>\n",
       "      <td>Evet</td>\n",
       "      <td>1.0</td>\n",
       "      <td>Hayır</td>\n",
       "      <td>10000 ve üzeri</td>\n",
       "      <td>3.23</td>\n",
       "      <td>0.0</td>\n",
       "      <td>Ege</td>\n",
       "      <td>2.0</td>\n",
       "      <td>Mühendislik Ve Fen Bilimleri</td>\n",
       "      <td>Toplu Taşıma</td>\n",
       "      <td>Üniversite/Fakülte Yemekhanesi</td>\n",
       "    </tr>\n",
       "    <tr>\n",
       "      <th>4</th>\n",
       "      <td>25,11,2023 12:59</td>\n",
       "      <td>Erkek</td>\n",
       "      <td>ilköğretim</td>\n",
       "      <td>İlkokul</td>\n",
       "      <td>9687.5</td>\n",
       "      <td>Evet</td>\n",
       "      <td>Yurt</td>\n",
       "      <td>Hayır</td>\n",
       "      <td>Hayır</td>\n",
       "      <td>Hayır</td>\n",
       "      <td>2.0</td>\n",
       "      <td>Evet</td>\n",
       "      <td>0-5000 adım</td>\n",
       "      <td>3.31</td>\n",
       "      <td>0.0</td>\n",
       "      <td>Akdeniz</td>\n",
       "      <td>4.0</td>\n",
       "      <td>Mühendislik Ve Fen Bilimleri</td>\n",
       "      <td>Yürüyerek</td>\n",
       "      <td>Hazır Yemekler</td>\n",
       "    </tr>\n",
       "    <tr>\n",
       "      <th>...</th>\n",
       "      <td>...</td>\n",
       "      <td>...</td>\n",
       "      <td>...</td>\n",
       "      <td>...</td>\n",
       "      <td>...</td>\n",
       "      <td>...</td>\n",
       "      <td>...</td>\n",
       "      <td>...</td>\n",
       "      <td>...</td>\n",
       "      <td>...</td>\n",
       "      <td>...</td>\n",
       "      <td>...</td>\n",
       "      <td>...</td>\n",
       "      <td>...</td>\n",
       "      <td>...</td>\n",
       "      <td>...</td>\n",
       "      <td>...</td>\n",
       "      <td>...</td>\n",
       "      <td>...</td>\n",
       "      <td>...</td>\n",
       "    </tr>\n",
       "    <tr>\n",
       "      <th>329</th>\n",
       "      <td>NaN</td>\n",
       "      <td>NaN</td>\n",
       "      <td>3:üniversite</td>\n",
       "      <td>3:üniversite</td>\n",
       "      <td>NaN</td>\n",
       "      <td>2:hayır</td>\n",
       "      <td>2: ev aile ile</td>\n",
       "      <td>2:hayır</td>\n",
       "      <td>2:hayır</td>\n",
       "      <td>2:hayır</td>\n",
       "      <td>NaN</td>\n",
       "      <td>2:hayır</td>\n",
       "      <td>2: 5000-10000 adım</td>\n",
       "      <td>NaN</td>\n",
       "      <td>NaN</td>\n",
       "      <td>3:Karadeniz</td>\n",
       "      <td>NaN</td>\n",
       "      <td>3:Edebiyat</td>\n",
       "      <td>3:Yürüyerek</td>\n",
       "      <td>3:Evden Getiriyorum</td>\n",
       "    </tr>\n",
       "    <tr>\n",
       "      <th>330</th>\n",
       "      <td>NaN</td>\n",
       "      <td>NaN</td>\n",
       "      <td>4:yüksek lisans ve üzeri</td>\n",
       "      <td>4:yüksek lisans ve üzeri</td>\n",
       "      <td>NaN</td>\n",
       "      <td>NaN</td>\n",
       "      <td>3: ev arkadaşları ile</td>\n",
       "      <td>NaN</td>\n",
       "      <td>NaN</td>\n",
       "      <td>NaN</td>\n",
       "      <td>NaN</td>\n",
       "      <td>NaN</td>\n",
       "      <td>3: 10000 ve üzeri</td>\n",
       "      <td>NaN</td>\n",
       "      <td>NaN</td>\n",
       "      <td>4:Marmara</td>\n",
       "      <td>NaN</td>\n",
       "      <td>4:İktisadi Ve İdari Bilimler</td>\n",
       "      <td>NaN</td>\n",
       "      <td>NaN</td>\n",
       "    </tr>\n",
       "    <tr>\n",
       "      <th>331</th>\n",
       "      <td>NaN</td>\n",
       "      <td>NaN</td>\n",
       "      <td>NaN</td>\n",
       "      <td>NaN</td>\n",
       "      <td>NaN</td>\n",
       "      <td>NaN</td>\n",
       "      <td>NaN</td>\n",
       "      <td>NaN</td>\n",
       "      <td>NaN</td>\n",
       "      <td>NaN</td>\n",
       "      <td>NaN</td>\n",
       "      <td>NaN</td>\n",
       "      <td>NaN</td>\n",
       "      <td>NaN</td>\n",
       "      <td>NaN</td>\n",
       "      <td>5: ege</td>\n",
       "      <td>NaN</td>\n",
       "      <td>5:Sağlık</td>\n",
       "      <td>NaN</td>\n",
       "      <td>NaN</td>\n",
       "    </tr>\n",
       "    <tr>\n",
       "      <th>332</th>\n",
       "      <td>NaN</td>\n",
       "      <td>NaN</td>\n",
       "      <td>NaN</td>\n",
       "      <td>NaN</td>\n",
       "      <td>NaN</td>\n",
       "      <td>NaN</td>\n",
       "      <td>NaN</td>\n",
       "      <td>NaN</td>\n",
       "      <td>NaN</td>\n",
       "      <td>NaN</td>\n",
       "      <td>NaN</td>\n",
       "      <td>NaN</td>\n",
       "      <td>NaN</td>\n",
       "      <td>NaN</td>\n",
       "      <td>NaN</td>\n",
       "      <td>6:Doğu Anadolu</td>\n",
       "      <td>NaN</td>\n",
       "      <td>6:Güzel Sanatlar</td>\n",
       "      <td>NaN</td>\n",
       "      <td>NaN</td>\n",
       "    </tr>\n",
       "    <tr>\n",
       "      <th>333</th>\n",
       "      <td>NaN</td>\n",
       "      <td>NaN</td>\n",
       "      <td>NaN</td>\n",
       "      <td>NaN</td>\n",
       "      <td>NaN</td>\n",
       "      <td>NaN</td>\n",
       "      <td>NaN</td>\n",
       "      <td>NaN</td>\n",
       "      <td>NaN</td>\n",
       "      <td>NaN</td>\n",
       "      <td>NaN</td>\n",
       "      <td>NaN</td>\n",
       "      <td>NaN</td>\n",
       "      <td>NaN</td>\n",
       "      <td>NaN</td>\n",
       "      <td>7:Güney Doğu Anadolu</td>\n",
       "      <td>NaN</td>\n",
       "      <td>NaN</td>\n",
       "      <td>NaN</td>\n",
       "      <td>NaN</td>\n",
       "    </tr>\n",
       "  </tbody>\n",
       "</table>\n",
       "<p>334 rows × 20 columns</p>\n",
       "</div>"
      ],
      "text/plain": [
       "        Zaman damgası Cinsiyetiniz Nedir? Anne Eğitim Düzeyi Nedir?  \\\n",
       "0    16,11,2023 19:33               Erkek                ilköğretim   \n",
       "1    25,11,2023 12:34               Erkek                ilköğretim   \n",
       "2    25,11,2023 12:57               Erkek                      Lise   \n",
       "3    25,11,2023 12:57               Kadın                ilköğretim   \n",
       "4    25,11,2023 12:59               Erkek                ilköğretim   \n",
       "..                ...                 ...                       ...   \n",
       "329               NaN                 NaN              3:üniversite   \n",
       "330               NaN                 NaN  4:yüksek lisans ve üzeri   \n",
       "331               NaN                 NaN                       NaN   \n",
       "332               NaN                 NaN                       NaN   \n",
       "333               NaN                 NaN                       NaN   \n",
       "\n",
       "    Baba Eğitim Düzeyi Nedir?\\n  \\\n",
       "0                       İlkokul   \n",
       "1                       İlkokul   \n",
       "2                          Lise   \n",
       "3                       İlkokul   \n",
       "4                       İlkokul   \n",
       "..                          ...   \n",
       "329                3:üniversite   \n",
       "330    4:yüksek lisans ve üzeri   \n",
       "331                         NaN   \n",
       "332                         NaN   \n",
       "333                         NaN   \n",
       "\n",
       "     Aylık Ortalama Harcamanız Ne Kadar? (Sadece Sayı Giriniz)  \\\n",
       "0                                               3000.0           \n",
       "1                                               2000.0           \n",
       "2                                               8000.0           \n",
       "3                                               4000.0           \n",
       "4                                               9687.5           \n",
       "..                                                 ...           \n",
       "329                                                NaN           \n",
       "330                                                NaN           \n",
       "331                                                NaN           \n",
       "332                                                NaN           \n",
       "333                                                NaN           \n",
       "\n",
       "    Burs veya kredi alıyor musunuz?    Nerede kalıyorsunuz?  \\\n",
       "0                              Evet                    Yurt   \n",
       "1                             Hayır             Ev Aile İle   \n",
       "2                             Hayır             Ev Aile İle   \n",
       "3                              Evet                    Yurt   \n",
       "4                              Evet                    Yurt   \n",
       "..                              ...                     ...   \n",
       "329                         2:hayır         2: ev aile ile    \n",
       "330                             NaN  3: ev arkadaşları ile    \n",
       "331                             NaN                     NaN   \n",
       "332                             NaN                     NaN   \n",
       "333                             NaN                     NaN   \n",
       "\n",
       "    Sigara Kullanıyor Musunuz? Alkol Kullanıyor Musunuz?  \\\n",
       "0                        Hayır                     Hayır   \n",
       "1                        Hayır                     Hayır   \n",
       "2                        Hayır                     Hayır   \n",
       "3                         Evet                     Hayır   \n",
       "4                        Hayır                     Hayır   \n",
       "..                         ...                       ...   \n",
       "329                    2:hayır                   2:hayır   \n",
       "330                        NaN                       NaN   \n",
       "331                        NaN                       NaN   \n",
       "332                        NaN                       NaN   \n",
       "333                        NaN                       NaN   \n",
       "\n",
       "    Kitap Okuma Alışkanlığınız Var Mı?  \\\n",
       "0                                Hayır   \n",
       "1                                Hayır   \n",
       "2                                 Evet   \n",
       "3                                 Evet   \n",
       "4                                Hayır   \n",
       "..                                 ...   \n",
       "329                            2:hayır   \n",
       "330                                NaN   \n",
       "331                                NaN   \n",
       "332                                NaN   \n",
       "333                                NaN   \n",
       "\n",
       "     Son bir ayda okuduğunuz kitap sayısı Nedir? (Sadece Sayı Giriniz)  \\\n",
       "0                                                  1.0                   \n",
       "1                                                  0.0                   \n",
       "2                                                  2.0                   \n",
       "3                                                  1.0                   \n",
       "4                                                  2.0                   \n",
       "..                                                 ...                   \n",
       "329                                                NaN                   \n",
       "330                                                NaN                   \n",
       "331                                                NaN                   \n",
       "332                                                NaN                   \n",
       "333                                                NaN                   \n",
       "\n",
       "    Spor yapıyor musunuz? Günlük kaç adım atarsınız?  \\\n",
       "0                    Evet             10000 ve üzeri   \n",
       "1                   Hayır            5000-10000 adım   \n",
       "2                    Evet             10000 ve üzeri   \n",
       "3                   Hayır             10000 ve üzeri   \n",
       "4                    Evet                0-5000 adım   \n",
       "..                    ...                        ...   \n",
       "329               2:hayır         2: 5000-10000 adım   \n",
       "330                   NaN          3: 10000 ve üzeri   \n",
       "331                   NaN                        NaN   \n",
       "332                   NaN                        NaN   \n",
       "333                   NaN                        NaN   \n",
       "\n",
       "     GANO Ortalamanız Ne Kadar?   Alttan aldığınız ders sayısı ne kadar?  \\\n",
       "0                           3.59                                     0.0   \n",
       "1                           2.85                                     3.0   \n",
       "2                           3.06                                     1.0   \n",
       "3                           3.23                                     0.0   \n",
       "4                           3.31                                     0.0   \n",
       "..                           ...                                     ...   \n",
       "329                          NaN                                     NaN   \n",
       "330                          NaN                                     NaN   \n",
       "331                          NaN                                     NaN   \n",
       "332                          NaN                                     NaN   \n",
       "333                          NaN                                     NaN   \n",
       "\n",
       "    Aileniz hangi bölgede yaşıyor?  \\\n",
       "0                       İç Anadolu   \n",
       "1                       İç Anadolu   \n",
       "2                          Akdeniz   \n",
       "3                              Ege   \n",
       "4                          Akdeniz   \n",
       "..                             ...   \n",
       "329                    3:Karadeniz   \n",
       "330                      4:Marmara   \n",
       "331                         5: ege   \n",
       "332                 6:Doğu Anadolu   \n",
       "333           7:Güney Doğu Anadolu   \n",
       "\n",
       "     Eğlence Ve Sosyal Aktivitelere Hangi Sıklıkta Katılırsınız? Lütfen 0-5 arası derecelendiriniz  \\\n",
       "0                                                  3.0                                               \n",
       "1                                                  2.0                                               \n",
       "2                                                  2.0                                               \n",
       "3                                                  2.0                                               \n",
       "4                                                  4.0                                               \n",
       "..                                                 ...                                               \n",
       "329                                                NaN                                               \n",
       "330                                                NaN                                               \n",
       "331                                                NaN                                               \n",
       "332                                                NaN                                               \n",
       "333                                                NaN                                               \n",
       "\n",
       "    Hangi Tabanlı Fakültede Eğitim Görmektesiniz?  \\\n",
       "0                    Mühendislik Ve Fen Bilimleri   \n",
       "1                    Mühendislik Ve Fen Bilimleri   \n",
       "2                    Mühendislik Ve Fen Bilimleri   \n",
       "3                    Mühendislik Ve Fen Bilimleri   \n",
       "4                    Mühendislik Ve Fen Bilimleri   \n",
       "..                                            ...   \n",
       "329                                    3:Edebiyat   \n",
       "330                  4:İktisadi Ve İdari Bilimler   \n",
       "331                                      5:Sağlık   \n",
       "332                              6:Güzel Sanatlar   \n",
       "333                                           NaN   \n",
       "\n",
       "    Okula ulaşımı nasıl sağlıyorsunuz?                           Yemek  \n",
       "0                         Toplu Taşıma  Üniversite/Fakülte Yemekhanesi  \n",
       "1                         Kişisel Araç  Üniversite/Fakülte Yemekhanesi  \n",
       "2                            Yürüyerek  Üniversite/Fakülte Yemekhanesi  \n",
       "3                         Toplu Taşıma  Üniversite/Fakülte Yemekhanesi  \n",
       "4                            Yürüyerek                  Hazır Yemekler  \n",
       "..                                 ...                             ...  \n",
       "329                        3:Yürüyerek             3:Evden Getiriyorum  \n",
       "330                                NaN                             NaN  \n",
       "331                                NaN                             NaN  \n",
       "332                                NaN                             NaN  \n",
       "333                                NaN                             NaN  \n",
       "\n",
       "[334 rows x 20 columns]"
      ]
     },
     "execution_count": 3,
     "metadata": {},
     "output_type": "execute_result"
    }
   ],
   "source": [
    "data"
   ]
  },
  {
   "cell_type": "code",
   "execution_count": 4,
   "metadata": {},
   "outputs": [
    {
     "data": {
      "text/plain": [
       "Index(['Zaman damgası', 'Cinsiyetiniz Nedir?', 'Anne Eğitim Düzeyi Nedir?',\n",
       "       'Baba Eğitim Düzeyi Nedir?\\n',\n",
       "       'Aylık Ortalama Harcamanız Ne Kadar? (Sadece Sayı Giriniz)',\n",
       "       'Burs veya kredi alıyor musunuz?', 'Nerede kalıyorsunuz?',\n",
       "       'Sigara Kullanıyor Musunuz?', 'Alkol Kullanıyor Musunuz?',\n",
       "       'Kitap Okuma Alışkanlığınız Var Mı?',\n",
       "       'Son bir ayda okuduğunuz kitap sayısı Nedir? (Sadece Sayı Giriniz)',\n",
       "       'Spor yapıyor musunuz?', 'Günlük kaç adım atarsınız?',\n",
       "       'GANO Ortalamanız Ne Kadar? ', 'Alttan aldığınız ders sayısı ne kadar?',\n",
       "       'Aileniz hangi bölgede yaşıyor?',\n",
       "       'Eğlence Ve Sosyal Aktivitelere Hangi Sıklıkta Katılırsınız? Lütfen 0-5 arası derecelendiriniz',\n",
       "       'Hangi Tabanlı Fakültede Eğitim Görmektesiniz?',\n",
       "       'Okula ulaşımı nasıl sağlıyorsunuz?', 'Yemek'],\n",
       "      dtype='object')"
      ]
     },
     "execution_count": 4,
     "metadata": {},
     "output_type": "execute_result"
    }
   ],
   "source": [
    "data.columns"
   ]
  },
  {
   "cell_type": "code",
   "execution_count": 5,
   "metadata": {},
   "outputs": [],
   "source": [
    "ort_harcama=data['Aylık Ortalama Harcamanız Ne Kadar? (Sadece Sayı Giriniz)']"
   ]
  },
  {
   "cell_type": "code",
   "execution_count": 6,
   "metadata": {},
   "outputs": [
    {
     "data": {
      "text/plain": [
       "5000.0    50\n",
       "3000.0    47\n",
       "2000.0    37\n",
       "9687.5    35\n",
       "4000.0    32\n",
       "2500.0    22\n",
       "6000.0    20\n",
       "1500.0    12\n",
       "1000.0    11\n",
       "7000.0    10\n",
       "8000.0     8\n",
       "3500.0     8\n",
       "4500.0     7\n",
       "1250.0     4\n",
       "9000.0     3\n",
       "7500.0     3\n",
       "500.0      2\n",
       "1200.0     2\n",
       "6500.0     1\n",
       "5500.0     1\n",
       "1400.0     1\n",
       "850.0      1\n",
       "2400.0     1\n",
       "2750.0     1\n",
       "200.0      1\n",
       "250.0      1\n",
       "3750.0     1\n",
       "6800.0     1\n",
       "4300.0     1\n",
       "600.0      1\n",
       "1700.0     1\n",
       "Name: Aylık Ortalama Harcamanız Ne Kadar? (Sadece Sayı Giriniz), dtype: int64"
      ]
     },
     "execution_count": 6,
     "metadata": {},
     "output_type": "execute_result"
    }
   ],
   "source": [
    "ort_harcama.value_counts()"
   ]
  },
  {
   "cell_type": "code",
   "execution_count": 7,
   "metadata": {},
   "outputs": [
    {
     "data": {
      "text/plain": [
       "<Axes: xlabel='Aylık Ortalama Harcamanız Ne Kadar? (Sadece Sayı Giriniz)'>"
      ]
     },
     "execution_count": 7,
     "metadata": {},
     "output_type": "execute_result"
    },
    {
     "data": {
      "image/png": "[encoded data removed]",
      "text/plain": [
       "<Figure size 432x288 with 1 Axes>"
      ]
     },
     "metadata": {
      "needs_background": "light"
     },
     "output_type": "display_data"
    }
   ],
   "source": [
    "sns.boxplot(x=ort_harcama)"
   ]
  },
  {
   "cell_type": "code",
   "execution_count": null,
   "metadata": {},
   "outputs": [],
   "source": [
    "Q1 = ort_harcama.quantile(0.25)\n",
    "Q3 = ort_harcama.quantile(0.75)\n",
    "IQR = Q3-Q1"
   ]
  },
  {
   "cell_type": "code",
   "execution_count": null,
   "metadata": {},
   "outputs": [],
   "source": [
    "ort_harcama.describe().T"
   ]
  },
  {
   "cell_type": "code",
   "execution_count": null,
   "metadata": {},
   "outputs": [],
   "source": [
    "alt_sinir = Q1- 1.5*IQR\n",
    "ust_sinir = Q3 + 1.5*IQR"
   ]
  },
  {
   "cell_type": "code",
   "execution_count": null,
   "metadata": {},
   "outputs": [],
   "source": [
    "aykiri=(ort_harcama < alt_sinir) | (ort_harcama > ust_sinir)"
   ]
  },
  {
   "cell_type": "code",
   "execution_count": null,
   "metadata": {},
   "outputs": [],
   "source": [
    "ort_harcama[aykiri] # bunları tablodaki değerlerini bulup aldık \n"
   ]
  },
  {
   "cell_type": "code",
   "execution_count": null,
   "metadata": {},
   "outputs": [],
   "source": [
    "ort_harcama[aykiri]"
   ]
  },
  {
   "cell_type": "code",
   "execution_count": null,
   "metadata": {},
   "outputs": [],
   "source": [
    "ort_harcama.mean()"
   ]
  },
  {
   "cell_type": "code",
   "execution_count": null,
   "metadata": {},
   "outputs": [],
   "source": [
    "ort_harcama[aykiri]=ust_sinir"
   ]
  },
  {
   "cell_type": "code",
   "execution_count": null,
   "metadata": {},
   "outputs": [],
   "source": [
    "ort_harcama[aykiri]"
   ]
  },
  {
   "cell_type": "code",
   "execution_count": null,
   "metadata": {},
   "outputs": [],
   "source": [
    "sns.boxplot(x=ort_harcama)"
   ]
  },
  {
   "cell_type": "code",
   "execution_count": 145,
   "metadata": {},
   "outputs": [],
   "source": [
    "gano=data['GANO Ortalamanız Ne Kadar? ']"
   ]
  },
  {
   "cell_type": "code",
   "execution_count": 146,
   "metadata": {},
   "outputs": [
    {
     "data": {
      "text/plain": [
       "0      3.59\n",
       "1      2.85\n",
       "2      3.06\n",
       "3      3.23\n",
       "4      3.31\n",
       "       ... \n",
       "321    2.96\n",
       "322    2.70\n",
       "323    3.50\n",
       "324    2.70\n",
       "325    2.04\n",
       "Name: GANO Ortalamanız Ne Kadar? , Length: 326, dtype: float64"
      ]
     },
     "execution_count": 146,
     "metadata": {},
     "output_type": "execute_result"
    }
   ],
   "source": [
    "gano"
   ]
  },
  {
   "cell_type": "code",
   "execution_count": 147,
   "metadata": {},
   "outputs": [
    {
     "data": {
      "text/plain": [
       "count    326.000000\n",
       "mean       4.952301\n",
       "std       12.169941\n",
       "min        0.000000\n",
       "25%        2.460000\n",
       "50%        2.850000\n",
       "75%        3.200000\n",
       "max       80.000000\n",
       "Name: GANO Ortalamanız Ne Kadar? , dtype: float64"
      ]
     },
     "execution_count": 147,
     "metadata": {},
     "output_type": "execute_result"
    }
   ],
   "source": [
    "gano.describe().T"
   ]
  },
  {
   "cell_type": "code",
   "execution_count": 148,
   "metadata": {},
   "outputs": [
    {
     "data": {
      "text/plain": [
       "<Axes: xlabel='GANO Ortalamanız Ne Kadar? '>"
      ]
     },
     "execution_count": 148,
     "metadata": {},
     "output_type": "execute_result"
    },
    {
     "data": {
      "image/png": "[encoded data removed]",
      "text/plain": [
       "<Figure size 432x288 with 1 Axes>"
      ]
     },
     "metadata": {
      "needs_background": "light"
     },
     "output_type": "display_data"
    }
   ],
   "source": [
    "sns.boxplot(x=gano)"
   ]
  },
  {
   "cell_type": "code",
   "execution_count": 149,
   "metadata": {},
   "outputs": [],
   "source": [
    "Q1 = gano.quantile(0.25)\n",
    "Q3 = gano.quantile(0.75)\n",
    "IQR = Q3-Q1"
   ]
  },
  {
   "cell_type": "code",
   "execution_count": 150,
   "metadata": {},
   "outputs": [],
   "source": [
    "alt_sinir = Q1- 1.5*IQR\n",
    "ust_sinir = 4\n"
   ]
  },
  {
   "cell_type": "code",
   "execution_count": 151,
   "metadata": {},
   "outputs": [
    {
     "data": {
      "text/plain": [
       "1.3499999999999996"
      ]
     },
     "execution_count": 151,
     "metadata": {},
     "output_type": "execute_result"
    }
   ],
   "source": [
    "alt_sinir"
   ]
  },
  {
   "cell_type": "code",
   "execution_count": 152,
   "metadata": {},
   "outputs": [],
   "source": [
    "gano_aykiri=(gano < alt_sinir) | (gano > ust_sinir)"
   ]
  },
  {
   "cell_type": "code",
   "execution_count": 153,
   "metadata": {},
   "outputs": [
    {
     "data": {
      "text/plain": [
       "13      0.0\n",
       "17      0.0\n",
       "18      0.0\n",
       "20      0.0\n",
       "27      0.0\n",
       "31      0.0\n",
       "33      1.0\n",
       "34      8.0\n",
       "38     45.0\n",
       "44     65.0\n",
       "56      0.0\n",
       "63      0.0\n",
       "106     0.0\n",
       "107     0.0\n",
       "108     0.0\n",
       "109     0.0\n",
       "113    70.0\n",
       "115    70.0\n",
       "117     0.0\n",
       "118     0.0\n",
       "140     0.0\n",
       "142    50.0\n",
       "165     0.0\n",
       "166     0.0\n",
       "167     0.0\n",
       "201     0.0\n",
       "202     0.0\n",
       "212     0.0\n",
       "213     0.0\n",
       "214     0.0\n",
       "221     0.0\n",
       "222     0.0\n",
       "223     0.0\n",
       "231     0.0\n",
       "234     0.0\n",
       "238     0.0\n",
       "263    70.0\n",
       "264    70.0\n",
       "265    70.0\n",
       "266    70.0\n",
       "307    70.0\n",
       "308    65.0\n",
       "309    80.0\n",
       "Name: GANO Ortalamanız Ne Kadar? , dtype: float64"
      ]
     },
     "execution_count": 153,
     "metadata": {},
     "output_type": "execute_result"
    }
   ],
   "source": [
    "gano[gano_aykiri]"
   ]
  },
  {
   "cell_type": "code",
   "execution_count": 154,
   "metadata": {},
   "outputs": [
    {
     "data": {
      "text/plain": [
       "4.952300613496933"
      ]
     },
     "execution_count": 154,
     "metadata": {},
     "output_type": "execute_result"
    }
   ],
   "source": [
    "gano.mean()"
   ]
  },
  {
   "cell_type": "code",
   "execution_count": 155,
   "metadata": {},
   "outputs": [
    {
     "name": "stderr",
     "output_type": "stream",
     "text": [
      "C:\\Users\\user\\AppData\\Local\\Temp\\ipykernel_13412\\627635548.py:1: SettingWithCopyWarning: \n",
      "A value is trying to be set on a copy of a slice from a DataFrame\n",
      "\n",
      "See the caveats in the documentation: https://pandas.pydata.org/pandas-docs/stable/user_guide/indexing.html#returning-a-view-versus-a-copy\n",
      "  gano[gano_aykiri]=np.nan\n"
     ]
    }
   ],
   "source": [
    "gano[gano_aykiri]=np.nan"
   ]
  },
  {
   "cell_type": "code",
   "execution_count": 156,
   "metadata": {},
   "outputs": [
    {
     "data": {
      "text/plain": [
       "13    NaN\n",
       "17    NaN\n",
       "18    NaN\n",
       "20    NaN\n",
       "27    NaN\n",
       "31    NaN\n",
       "33    NaN\n",
       "34    NaN\n",
       "38    NaN\n",
       "44    NaN\n",
       "56    NaN\n",
       "63    NaN\n",
       "106   NaN\n",
       "107   NaN\n",
       "108   NaN\n",
       "109   NaN\n",
       "113   NaN\n",
       "115   NaN\n",
       "117   NaN\n",
       "118   NaN\n",
       "140   NaN\n",
       "142   NaN\n",
       "165   NaN\n",
       "166   NaN\n",
       "167   NaN\n",
       "201   NaN\n",
       "202   NaN\n",
       "212   NaN\n",
       "213   NaN\n",
       "214   NaN\n",
       "221   NaN\n",
       "222   NaN\n",
       "223   NaN\n",
       "231   NaN\n",
       "234   NaN\n",
       "238   NaN\n",
       "263   NaN\n",
       "264   NaN\n",
       "265   NaN\n",
       "266   NaN\n",
       "307   NaN\n",
       "308   NaN\n",
       "309   NaN\n",
       "Name: GANO Ortalamanız Ne Kadar? , dtype: float64"
      ]
     },
     "execution_count": 156,
     "metadata": {},
     "output_type": "execute_result"
    }
   ],
   "source": [
    "gano[gano_aykiri]"
   ]
  },
  {
   "cell_type": "code",
   "execution_count": 157,
   "metadata": {},
   "outputs": [],
   "source": [
    "data.to_excel('duzenlenmis_veri11.xlsx', index=False)"
   ]
  },
  {
   "cell_type": "code",
   "execution_count": 129,
   "metadata": {},
   "outputs": [],
   "source": [
    "ganoo=gano.dropna()"
   ]
  },
  {
   "cell_type": "code",
   "execution_count": 130,
   "metadata": {},
   "outputs": [],
   "source": [
    "ortalama=ganoo.mean()"
   ]
  },
  {
   "cell_type": "code",
   "execution_count": 131,
   "metadata": {},
   "outputs": [
    {
     "data": {
      "text/plain": [
       "2.863780918727915"
      ]
     },
     "execution_count": 131,
     "metadata": {},
     "output_type": "execute_result"
    }
   ],
   "source": [
    "ortalama"
   ]
  },
  {
   "cell_type": "code",
   "execution_count": 132,
   "metadata": {},
   "outputs": [],
   "source": [
    "Q1 = ganoo.quantile(0.25)\n",
    "Q3 = ganoo.quantile(0.75)\n",
    "IQR = Q3-Q1"
   ]
  },
  {
   "cell_type": "code",
   "execution_count": 133,
   "metadata": {},
   "outputs": [],
   "source": [
    "alt_sinir = Q1- 1.5*IQR\n",
    "ust_sinir = 4"
   ]
  },
  {
   "cell_type": "code",
   "execution_count": 134,
   "metadata": {},
   "outputs": [
    {
     "data": {
      "text/plain": [
       "1.4499999999999997"
      ]
     },
     "execution_count": 134,
     "metadata": {},
     "output_type": "execute_result"
    }
   ],
   "source": [
    "alt_sinir"
   ]
  },
  {
   "cell_type": "code",
   "execution_count": 136,
   "metadata": {},
   "outputs": [],
   "source": [
    "ganoo_aykiri=(ganoo < alt_sinir) | (ganoo > ust_sinir)"
   ]
  },
  {
   "cell_type": "code",
   "execution_count": 137,
   "metadata": {},
   "outputs": [
    {
     "data": {
      "text/plain": [
       "48    1.43\n",
       "Name: GANO Ortalamanız Ne Kadar? , dtype: float64"
      ]
     },
     "execution_count": 137,
     "metadata": {},
     "output_type": "execute_result"
    }
   ],
   "source": [
    "ganoo[gano1_aykiri]"
   ]
  },
  {
   "cell_type": "code",
   "execution_count": 138,
   "metadata": {},
   "outputs": [
    {
     "data": {
      "text/plain": [
       "<Axes: xlabel='GANO Ortalamanız Ne Kadar? '>"
      ]
     },
     "execution_count": 138,
     "metadata": {},
     "output_type": "execute_result"
    },
    {
     "data": {
      "image/png": "[encoded data removed]",
      "text/plain": [
       "<Figure size 432x288 with 1 Axes>"
      ]
     },
     "metadata": {
      "needs_background": "light"
     },
     "output_type": "display_data"
    }
   ],
   "source": [
    "sns.boxplot(x=ganoo)"
   ]
  },
  {
   "cell_type": "code",
   "execution_count": 139,
   "metadata": {},
   "outputs": [],
   "source": [
    "data1.to_excel('duzenlenmis_veri1.xlsx', index=False)"
   ]
  },
  {
   "cell_type": "code",
   "execution_count": null,
   "metadata": {},
   "outputs": [],
   "source": []
  },
  {
   "cell_type": "code",
   "execution_count": null,
   "metadata": {},
   "outputs": [],
   "source": []
  }
 ],
 "metadata": {
  "kernelspec": {
   "display_name": "Python 3",
   "language": "python",
   "name": "python3"
  },
  "language_info": {
   "codemirror_mode": {
    "name": "ipython",
    "version": 3
   },
   "file_extension": ".py",
   "mimetype": "text/x-python",
   "name": "python",
   "nbconvert_exporter": "python",
   "pygments_lexer": "ipython3",
   "version": "3.10.11"
  }
 },
 "nbformat": 4,
 "nbformat_minor": 2
}
